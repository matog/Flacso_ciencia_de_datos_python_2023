{
 "cells": [
  {
   "cell_type": "code",
   "execution_count": 6,
   "id": "0449aa36",
   "metadata": {},
   "outputs": [],
   "source": [
    "import pandas as pd\n",
    "from datetime import datetime"
   ]
  },
  {
   "cell_type": "code",
   "execution_count": 7,
   "id": "04b69316",
   "metadata": {},
   "outputs": [],
   "source": [
    "data = pd.read_csv('https://github.com/matog/iSalud-IntroCienciaDeDatos/raw/main/ntrarogyaseva.zip')"
   ]
  },
  {
   "cell_type": "code",
   "execution_count": 24,
   "id": "f0795a60",
   "metadata": {},
   "outputs": [],
   "source": [
    "data = data[['DISCHARGE_DATE']]"
   ]
  },
  {
   "cell_type": "code",
   "execution_count": 13,
   "id": "57846ae9",
   "metadata": {},
   "outputs": [
    {
     "data": {
      "text/html": [
       "<div>\n",
       "<style scoped>\n",
       "    .dataframe tbody tr th:only-of-type {\n",
       "        vertical-align: middle;\n",
       "    }\n",
       "\n",
       "    .dataframe tbody tr th {\n",
       "        vertical-align: top;\n",
       "    }\n",
       "\n",
       "    .dataframe thead th {\n",
       "        text-align: right;\n",
       "    }\n",
       "</style>\n",
       "<table border=\"1\" class=\"dataframe\">\n",
       "  <thead>\n",
       "    <tr style=\"text-align: right;\">\n",
       "      <th></th>\n",
       "      <th></th>\n",
       "      <th>AGE</th>\n",
       "      <th>SEX</th>\n",
       "      <th>CASTE_NAME</th>\n",
       "      <th>CATEGORY_CODE</th>\n",
       "      <th>CATEGORY_NAME</th>\n",
       "      <th>SURGERY_CODE</th>\n",
       "      <th>SURGERY</th>\n",
       "      <th>VILLAGE</th>\n",
       "      <th>MANDAL_NAME</th>\n",
       "      <th>...</th>\n",
       "      <th>CLAIM_AMOUNT</th>\n",
       "      <th>HOSP_NAME</th>\n",
       "      <th>HOSP_TYPE</th>\n",
       "      <th>HOSP_LOCATION</th>\n",
       "      <th>HOSP_DISTRICT</th>\n",
       "      <th>SURGERY_DATE</th>\n",
       "      <th>DISCHARGE_DATE</th>\n",
       "      <th>Mortality Y / N</th>\n",
       "      <th>MORTALITY_DATE</th>\n",
       "      <th>SRC_REGISTRATION</th>\n",
       "    </tr>\n",
       "  </thead>\n",
       "  <tbody>\n",
       "    <tr>\n",
       "      <th>1767</th>\n",
       "      <td>1768</td>\n",
       "      <td>44</td>\n",
       "      <td>Male</td>\n",
       "      <td>ST</td>\n",
       "      <td>M6</td>\n",
       "      <td>NEPHROLOGY</td>\n",
       "      <td>M6.5</td>\n",
       "      <td>Maintenance Hemodialysis For Crf</td>\n",
       "      <td>Ratnapuram</td>\n",
       "      <td>Chintur</td>\n",
       "      <td>...</td>\n",
       "      <td>12500</td>\n",
       "      <td>District Hospital-Khammam-</td>\n",
       "      <td>G</td>\n",
       "      <td>KHAMMAM</td>\n",
       "      <td>Khammam</td>\n",
       "      <td>27/01/2016 00:00:00</td>\n",
       "      <td>30/04/0116 00:00:00</td>\n",
       "      <td>YES</td>\n",
       "      <td>30/04/2016 00:00:00</td>\n",
       "      <td>D</td>\n",
       "    </tr>\n",
       "    <tr>\n",
       "      <th>2856</th>\n",
       "      <td>2857</td>\n",
       "      <td>44</td>\n",
       "      <td>Male</td>\n",
       "      <td>ST</td>\n",
       "      <td>M6</td>\n",
       "      <td>NEPHROLOGY</td>\n",
       "      <td>M6.5</td>\n",
       "      <td>Maintenance Hemodialysis For Crf</td>\n",
       "      <td>Kusumanapalli</td>\n",
       "      <td>Bhadrachalam</td>\n",
       "      <td>...</td>\n",
       "      <td>12500</td>\n",
       "      <td>District Hospital-Khammam-</td>\n",
       "      <td>G</td>\n",
       "      <td>KHAMMAM</td>\n",
       "      <td>Khammam</td>\n",
       "      <td>02/03/2016 00:00:00</td>\n",
       "      <td>30/04/0116 00:00:00</td>\n",
       "      <td>YES</td>\n",
       "      <td>30/04/2016 00:00:00</td>\n",
       "      <td>D</td>\n",
       "    </tr>\n",
       "  </tbody>\n",
       "</table>\n",
       "<p>2 rows × 24 columns</p>\n",
       "</div>"
      ],
      "text/plain": [
       "            AGE   SEX CASTE_NAME CATEGORY_CODE CATEGORY_NAME SURGERY_CODE  \\\n",
       "1767  1768   44  Male         ST            M6    NEPHROLOGY         M6.5   \n",
       "2856  2857   44  Male         ST            M6    NEPHROLOGY         M6.5   \n",
       "\n",
       "                               SURGERY        VILLAGE   MANDAL_NAME  ...  \\\n",
       "1767  Maintenance Hemodialysis For Crf     Ratnapuram       Chintur  ...   \n",
       "2856  Maintenance Hemodialysis For Crf  Kusumanapalli  Bhadrachalam  ...   \n",
       "\n",
       "     CLAIM_AMOUNT                   HOSP_NAME  HOSP_TYPE HOSP_LOCATION  \\\n",
       "1767        12500  District Hospital-Khammam-          G       KHAMMAM   \n",
       "2856        12500  District Hospital-Khammam-          G       KHAMMAM   \n",
       "\n",
       "      HOSP_DISTRICT         SURGERY_DATE       DISCHARGE_DATE Mortality Y / N  \\\n",
       "1767        Khammam  27/01/2016 00:00:00  30/04/0116 00:00:00             YES   \n",
       "2856        Khammam  02/03/2016 00:00:00  30/04/0116 00:00:00             YES   \n",
       "\n",
       "           MORTALITY_DATE SRC_REGISTRATION  \n",
       "1767  30/04/2016 00:00:00                D  \n",
       "2856  30/04/2016 00:00:00                D  \n",
       "\n",
       "[2 rows x 24 columns]"
      ]
     },
     "execution_count": 13,
     "metadata": {},
     "output_type": "execute_result"
    }
   ],
   "source": [
    "# Arreglamos la fecha con caracteres erroneos tal como en la clase 5\n",
    "data.loc[data['DISCHARGE_DATE'].str.contains('116', na=False)]"
   ]
  },
  {
   "cell_type": "code",
   "execution_count": 16,
   "id": "4714c26a",
   "metadata": {},
   "outputs": [],
   "source": [
    "data.loc[data['DISCHARGE_DATE']=='30/04/0116 00:00:00', 'DISCHARGE_DATE'] = '30/04/2016 00:00:00'"
   ]
  },
  {
   "cell_type": "code",
   "execution_count": 25,
   "id": "d8f2877d",
   "metadata": {},
   "outputs": [],
   "source": [
    "# Convertimos la columna a date time\n",
    "data['DISCHARGE_DATE'] = pd.to_datetime(data['DISCHARGE_DATE'])"
   ]
  },
  {
   "cell_type": "code",
   "execution_count": 26,
   "id": "58ce6ebb",
   "metadata": {},
   "outputs": [
    {
     "name": "stdout",
     "output_type": "stream",
     "text": [
      "<class 'pandas.core.frame.DataFrame'>\n",
      "RangeIndex: 479688 entries, 0 to 479687\n",
      "Data columns (total 1 columns):\n",
      " #   Column          Non-Null Count   Dtype         \n",
      "---  ------          --------------   -----         \n",
      " 0   DISCHARGE_DATE  475128 non-null  datetime64[ns]\n",
      "dtypes: datetime64[ns](1)\n",
      "memory usage: 3.7 MB\n"
     ]
    }
   ],
   "source": [
    "data.info()"
   ]
  },
  {
   "cell_type": "code",
   "execution_count": 28,
   "id": "8b059d93",
   "metadata": {},
   "outputs": [],
   "source": [
    "# Guardamos el archivo en formato parquet"
   ]
  },
  {
   "cell_type": "code",
   "execution_count": 29,
   "id": "b3281047",
   "metadata": {},
   "outputs": [],
   "source": [
    "data.to_parquet('myfile.parquet')"
   ]
  },
  {
   "cell_type": "code",
   "execution_count": 30,
   "id": "4c4da76a",
   "metadata": {},
   "outputs": [],
   "source": [
    "# Para chequear lo volvemos a cargar"
   ]
  },
  {
   "cell_type": "code",
   "execution_count": 32,
   "id": "c67b9fdd",
   "metadata": {},
   "outputs": [],
   "source": [
    "df = pd.read_parquet('myfile.parquet')"
   ]
  },
  {
   "cell_type": "code",
   "execution_count": 33,
   "id": "506739ee",
   "metadata": {},
   "outputs": [
    {
     "data": {
      "text/html": [
       "<div>\n",
       "<style scoped>\n",
       "    .dataframe tbody tr th:only-of-type {\n",
       "        vertical-align: middle;\n",
       "    }\n",
       "\n",
       "    .dataframe tbody tr th {\n",
       "        vertical-align: top;\n",
       "    }\n",
       "\n",
       "    .dataframe thead th {\n",
       "        text-align: right;\n",
       "    }\n",
       "</style>\n",
       "<table border=\"1\" class=\"dataframe\">\n",
       "  <thead>\n",
       "    <tr style=\"text-align: right;\">\n",
       "      <th></th>\n",
       "      <th>DISCHARGE_DATE</th>\n",
       "    </tr>\n",
       "  </thead>\n",
       "  <tbody>\n",
       "    <tr>\n",
       "      <th>0</th>\n",
       "      <td>2013-07-09</td>\n",
       "    </tr>\n",
       "    <tr>\n",
       "      <th>1</th>\n",
       "      <td>2013-09-09</td>\n",
       "    </tr>\n",
       "    <tr>\n",
       "      <th>2</th>\n",
       "      <td>2013-10-18</td>\n",
       "    </tr>\n",
       "    <tr>\n",
       "      <th>3</th>\n",
       "      <td>2013-09-27</td>\n",
       "    </tr>\n",
       "    <tr>\n",
       "      <th>4</th>\n",
       "      <td>2013-02-10</td>\n",
       "    </tr>\n",
       "    <tr>\n",
       "      <th>...</th>\n",
       "      <td>...</td>\n",
       "    </tr>\n",
       "    <tr>\n",
       "      <th>479683</th>\n",
       "      <td>2017-11-19</td>\n",
       "    </tr>\n",
       "    <tr>\n",
       "      <th>479684</th>\n",
       "      <td>2017-11-18</td>\n",
       "    </tr>\n",
       "    <tr>\n",
       "      <th>479685</th>\n",
       "      <td>2017-11-18</td>\n",
       "    </tr>\n",
       "    <tr>\n",
       "      <th>479686</th>\n",
       "      <td>2017-11-18</td>\n",
       "    </tr>\n",
       "    <tr>\n",
       "      <th>479687</th>\n",
       "      <td>2017-11-18</td>\n",
       "    </tr>\n",
       "  </tbody>\n",
       "</table>\n",
       "<p>479688 rows × 1 columns</p>\n",
       "</div>"
      ],
      "text/plain": [
       "       DISCHARGE_DATE\n",
       "0          2013-07-09\n",
       "1          2013-09-09\n",
       "2          2013-10-18\n",
       "3          2013-09-27\n",
       "4          2013-02-10\n",
       "...               ...\n",
       "479683     2017-11-19\n",
       "479684     2017-11-18\n",
       "479685     2017-11-18\n",
       "479686     2017-11-18\n",
       "479687     2017-11-18\n",
       "\n",
       "[479688 rows x 1 columns]"
      ]
     },
     "execution_count": 33,
     "metadata": {},
     "output_type": "execute_result"
    }
   ],
   "source": [
    "df"
   ]
  },
  {
   "cell_type": "code",
   "execution_count": 34,
   "id": "cc78e60f",
   "metadata": {},
   "outputs": [
    {
     "name": "stdout",
     "output_type": "stream",
     "text": [
      "<class 'pandas.core.frame.DataFrame'>\n",
      "RangeIndex: 479688 entries, 0 to 479687\n",
      "Data columns (total 1 columns):\n",
      " #   Column          Non-Null Count   Dtype         \n",
      "---  ------          --------------   -----         \n",
      " 0   DISCHARGE_DATE  475128 non-null  datetime64[ns]\n",
      "dtypes: datetime64[ns](1)\n",
      "memory usage: 3.7 MB\n"
     ]
    }
   ],
   "source": [
    "df.info()"
   ]
  },
  {
   "cell_type": "code",
   "execution_count": null,
   "id": "59df65e6",
   "metadata": {},
   "outputs": [],
   "source": []
  }
 ],
 "metadata": {
  "kernelspec": {
   "display_name": "Python 3 (ipykernel)",
   "language": "python",
   "name": "python3"
  },
  "language_info": {
   "codemirror_mode": {
    "name": "ipython",
    "version": 3
   },
   "file_extension": ".py",
   "mimetype": "text/x-python",
   "name": "python",
   "nbconvert_exporter": "python",
   "pygments_lexer": "ipython3",
   "version": "3.10.9"
  }
 },
 "nbformat": 4,
 "nbformat_minor": 5
}
